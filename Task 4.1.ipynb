{
 "cells": [
  {
   "cell_type": "code",
   "execution_count": 11,
   "id": "3f3d85db",
   "metadata": {},
   "outputs": [],
   "source": [
    "import cv2 as  cv\n",
    "import numpy as np\n"
   ]
  },
  {
   "cell_type": "code",
   "execution_count": 12,
   "id": "bea0fa60",
   "metadata": {},
   "outputs": [],
   "source": [
    "width = 5\n",
    "height = 5\n",
    "qipan_cell = 100"
   ]
  },
  {
   "cell_type": "code",
   "execution_count": 13,
   "id": "9fc25095",
   "metadata": {},
   "outputs": [],
   "source": [
    "width_pix = (width + 1) * qipan_cell + qipan_cell  # add extra  qipan_cell  for reserve blank\n",
    "height_pix = (height + 1) * qipan_cell + qipan_cell"
   ]
  },
  {
   "cell_type": "code",
   "execution_count": 14,
   "id": "e230b12b",
   "metadata": {},
   "outputs": [],
   "source": [
    "\n",
    "#white = (255,255,255)\n",
    "#black =  (0,0,0)"
   ]
  },
  {
   "cell_type": "code",
   "execution_count": 15,
   "id": "9366cb80",
   "metadata": {},
   "outputs": [],
   "source": [
    "\n",
    "image = np.zeros((height_pix, width_pix, 3), dtype=np.uint8)\n",
    "image.fill(255)"
   ]
  },
  {
   "cell_type": "code",
   "execution_count": 16,
   "id": "3eccd077",
   "metadata": {},
   "outputs": [],
   "source": [
    "#Create display window\n",
    "win_name = \"qipan\"\n",
    "cv.namedWindow(\"qipan\",cv.WINDOW_AUTOSIZE)\n",
    "cv.imshow(win_name, image)\n",
    "color = (255,255,255)"
   ]
  },
  {
   "cell_type": "code",
   "execution_count": 17,
   "id": "4592a9e9",
   "metadata": {},
   "outputs": [
    {
     "name": "stdout",
     "output_type": "stream",
     "text": [
      "0 0 100 100 0\n",
      "100 0 200 100 255\n",
      "200 0 300 100 0\n",
      "300 0 400 100 255\n",
      "400 0 500 100 0\n",
      "500 0 600 100 255\n",
      "0 100 100 200 255\n",
      "100 100 200 200 0\n",
      "200 100 300 200 255\n",
      "300 100 400 200 0\n",
      "400 100 500 200 255\n",
      "500 100 600 200 0\n",
      "0 200 100 300 0\n",
      "100 200 200 300 255\n",
      "200 200 300 300 0\n",
      "300 200 400 300 255\n",
      "400 200 500 300 0\n",
      "500 200 600 300 255\n",
      "0 300 100 400 255\n",
      "100 300 200 400 0\n",
      "200 300 300 400 255\n",
      "300 300 400 400 0\n",
      "400 300 500 400 255\n",
      "500 300 600 400 0\n",
      "0 400 100 500 0\n",
      "100 400 200 500 255\n",
      "200 400 300 500 0\n",
      "300 400 400 500 255\n",
      "400 400 500 500 0\n",
      "500 400 600 500 255\n",
      "0 500 100 600 255\n",
      "100 500 200 600 0\n",
      "200 500 300 600 255\n",
      "300 500 400 600 0\n",
      "400 500 500 600 255\n",
      "500 500 600 600 0\n"
     ]
    }
   ],
   "source": [
    "\n",
    "y0 = 0\n",
    "fill_color = 0\n",
    "for j in range(0,height + 1):\n",
    "    y = j * qipan_cell\n",
    "    for i in range(0,width+1):\n",
    "        #rint(i)\n",
    "        x0 = i *qipan_cell\n",
    "        y0 = y\n",
    "        rect_start = (x0,y0)\n",
    " \n",
    "        x1 = x0 + qipan_cell\n",
    "        y1 = y0 + qipan_cell\n",
    "        rect_end = (x1,y1)\n",
    "        print(x0,y0,x1,y1, fill_color)\n",
    "        cv.rectangle(image, rect_start, rect_end,color, 1, 0)\n",
    "        #print(fill_color)\n",
    "        image[y0:y1,x0:x1] = fill_color\n",
    "        if width % 2: \n",
    "            if i != width:\n",
    "                fill_color = (0 if ( fill_color == 255) else 255)\n",
    "        else:\n",
    "            if i != width + 1:\n",
    "                fill_color = (0 if ( fill_color == 255) else 255)"
   ]
  },
  {
   "cell_type": "code",
   "execution_count": 18,
   "id": "8cfc8ce7",
   "metadata": {},
   "outputs": [],
   "source": [
    "\n",
    "#image[0:20,0:20] = 0\n",
    "#image[40:60,0:20] = 0"
   ]
  },
  {
   "cell_type": "code",
   "execution_count": 19,
   "id": "6c4d4a7b",
   "metadata": {},
   "outputs": [],
   "source": [
    "cv.imwrite(\"qipan_%d_W_%d_H.jpg\"%(width, height),image)\n",
    "cv.imshow(win_name, image)"
   ]
  },
  {
   "cell_type": "code",
   "execution_count": 20,
   "id": "53ef3c62",
   "metadata": {},
   "outputs": [
    {
     "data": {
      "text/plain": [
       "-1"
      ]
     },
     "execution_count": 20,
     "metadata": {},
     "output_type": "execute_result"
    }
   ],
   "source": [
    "cv.waitKey()"
   ]
  },
  {
   "cell_type": "code",
   "execution_count": null,
   "id": "d6ebc568",
   "metadata": {},
   "outputs": [],
   "source": []
  },
  {
   "cell_type": "code",
   "execution_count": null,
   "id": "5ff04e04",
   "metadata": {},
   "outputs": [],
   "source": []
  },
  {
   "cell_type": "code",
   "execution_count": null,
   "id": "240fab44",
   "metadata": {},
   "outputs": [],
   "source": []
  },
  {
   "cell_type": "code",
   "execution_count": null,
   "id": "fc6cc067",
   "metadata": {},
   "outputs": [],
   "source": []
  }
 ],
 "metadata": {
  "kernelspec": {
   "display_name": "Python 3",
   "language": "python",
   "name": "python3"
  },
  "language_info": {
   "codemirror_mode": {
    "name": "ipython",
    "version": 3
   },
   "file_extension": ".py",
   "mimetype": "text/x-python",
   "name": "python",
   "nbconvert_exporter": "python",
   "pygments_lexer": "ipython3",
   "version": "3.8.8"
  }
 },
 "nbformat": 4,
 "nbformat_minor": 5
}
