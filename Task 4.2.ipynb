{
 "cells": [
  {
   "cell_type": "code",
   "execution_count": 1,
   "id": "d6d1d41b",
   "metadata": {},
   "outputs": [],
   "source": [
    "import cv2\n",
    "import numpy"
   ]
  },
  {
   "cell_type": "code",
   "execution_count": 2,
   "id": "f3752cf8",
   "metadata": {},
   "outputs": [],
   "source": [
    "Nature1 = cv2.imread(\"nature1.jpg\")"
   ]
  },
  {
   "cell_type": "code",
   "execution_count": 3,
   "id": "1bc2b09e",
   "metadata": {},
   "outputs": [
    {
     "data": {
      "text/plain": [
       "(1080, 1920, 3)"
      ]
     },
     "execution_count": 3,
     "metadata": {},
     "output_type": "execute_result"
    }
   ],
   "source": [
    "Nature1.shape"
   ]
  },
  {
   "cell_type": "code",
   "execution_count": 4,
   "id": "804a37d4",
   "metadata": {},
   "outputs": [],
   "source": [
    "Nature2 = cv2.imread(\"nature3.jpg\")"
   ]
  },
  {
   "cell_type": "code",
   "execution_count": 5,
   "id": "1dcf29a6",
   "metadata": {},
   "outputs": [
    {
     "data": {
      "text/plain": [
       "(1080, 1920, 3)"
      ]
     },
     "execution_count": 5,
     "metadata": {},
     "output_type": "execute_result"
    }
   ],
   "source": [
    "Nature2.shape"
   ]
  },
  {
   "cell_type": "code",
   "execution_count": 6,
   "id": "62015218",
   "metadata": {},
   "outputs": [],
   "source": [
    "crop_NatureE = Nature1[ : , :312 ]\n",
    "cv2.imshow(\"Nature\",crop_NatureE)\n",
    "cv2.waitKey()\n",
    "cv2.destroyAllWindows()\n",
    "\n",
    "crop_NatureF = Nature1[ : , 313: ]\n",
    "cv2.imshow(\"batman\",crop_NatureF)\n",
    "cv2.waitKey()\n",
    "cv2.destroyAllWindows()"
   ]
  },
  {
   "cell_type": "code",
   "execution_count": 7,
   "id": "e3bc2fda",
   "metadata": {},
   "outputs": [],
   "source": [
    "crop_NatureC = Nature2[ : , :312 ]\n",
    "cv2.imshow(\"ironman\",crop_NatureC)\n",
    "cv2.waitKey()\n",
    "cv2.destroyAllWindows()\n",
    "\n",
    "crop_NatureD = Nature2[ : , 313: ]\n",
    "cv2.imshow(\"ironman\",crop_NatureC)\n",
    "cv2.waitKey()\n",
    "cv2.destroyAllWindows()"
   ]
  },
  {
   "cell_type": "code",
   "execution_count": 8,
   "id": "a13a4493",
   "metadata": {},
   "outputs": [],
   "source": [
    "Final = numpy.hstack((crop_NatureE,crop_NatureD))"
   ]
  },
  {
   "cell_type": "code",
   "execution_count": 9,
   "id": "dab6607b",
   "metadata": {},
   "outputs": [],
   "source": [
    "cv2.imshow(\"batman\",Final)\n",
    "cv2.waitKey()\n",
    "cv2.destroyAllWindows()"
   ]
  },
  {
   "cell_type": "code",
   "execution_count": 10,
   "id": "49777db0",
   "metadata": {},
   "outputs": [],
   "source": [
    "Final1 = numpy.hstack((crop_NatureC,crop_NatureF))"
   ]
  },
  {
   "cell_type": "code",
   "execution_count": 11,
   "id": "55c25a2b",
   "metadata": {},
   "outputs": [],
   "source": [
    "cv2.imshow(\"batman\",Final1)\n",
    "cv2.waitKey()\n",
    "cv2.destroyAllWindows()"
   ]
  },
  {
   "cell_type": "code",
   "execution_count": null,
   "id": "f8e36a4e",
   "metadata": {},
   "outputs": [],
   "source": []
  },
  {
   "cell_type": "code",
   "execution_count": null,
   "id": "012722d9",
   "metadata": {},
   "outputs": [],
   "source": []
  }
 ],
 "metadata": {
  "kernelspec": {
   "display_name": "Python 3",
   "language": "python",
   "name": "python3"
  },
  "language_info": {
   "codemirror_mode": {
    "name": "ipython",
    "version": 3
   },
   "file_extension": ".py",
   "mimetype": "text/x-python",
   "name": "python",
   "nbconvert_exporter": "python",
   "pygments_lexer": "ipython3",
   "version": "3.8.8"
  }
 },
 "nbformat": 4,
 "nbformat_minor": 5
}
