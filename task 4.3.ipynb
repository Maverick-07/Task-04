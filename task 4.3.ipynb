{
 "cells": [
  {
   "cell_type": "code",
   "execution_count": 29,
   "id": "c56b955a",
   "metadata": {},
   "outputs": [],
   "source": [
    "import cv2\n",
    "import numpy"
   ]
  },
  {
   "cell_type": "code",
   "execution_count": 30,
   "id": "58961bcf",
   "metadata": {},
   "outputs": [],
   "source": [
    "Pic_1 = cv2.imread(\"nature1.jpg\")\n",
    "cv2.imshow(\"Nature\", Pic_1)\n",
    "cv2.waitKey()\n",
    "cv2.destroyAllWindows()"
   ]
  },
  {
   "cell_type": "code",
   "execution_count": 31,
   "id": "e26205a9",
   "metadata": {},
   "outputs": [
    {
     "data": {
      "text/plain": [
       "(1080, 1920, 3)"
      ]
     },
     "execution_count": 31,
     "metadata": {},
     "output_type": "execute_result"
    }
   ],
   "source": [
    "Pic_1.shape"
   ]
  },
  {
   "cell_type": "code",
   "execution_count": 32,
   "id": "8fd12dc1",
   "metadata": {},
   "outputs": [],
   "source": [
    "Pic_2 = cv2.imread(\"nature3.jpg\")\n",
    "cv2.imshow(\"Nature1\",Pic_2)\n",
    "cv2.waitKey()\n",
    "cv2.destroyAllWindows()"
   ]
  },
  {
   "cell_type": "code",
   "execution_count": 33,
   "id": "9d3db15a",
   "metadata": {},
   "outputs": [
    {
     "data": {
      "text/plain": [
       "(1080, 1920, 3)"
      ]
     },
     "execution_count": 33,
     "metadata": {},
     "output_type": "execute_result"
    }
   ],
   "source": [
    "Pic_2.shape"
   ]
  },
  {
   "cell_type": "code",
   "execution_count": 34,
   "id": "0e8aa98c",
   "metadata": {},
   "outputs": [],
   "source": [
    "crop_Pic_1 = Pic_1[100:200+500, 500:1000]\n",
    "cv2.imshow(\"Nature\",crop_Pic_1)\n",
    "cv2.waitKey()\n",
    "cv2.destroyAllWindows()"
   ]
  },
  {
   "cell_type": "code",
   "execution_count": 35,
   "id": "c7ca25e3",
   "metadata": {},
   "outputs": [
    {
     "data": {
      "text/plain": [
       "(600, 500, 3)"
      ]
     },
     "execution_count": 35,
     "metadata": {},
     "output_type": "execute_result"
    }
   ],
   "source": [
    "crop_Pic_1.shape"
   ]
  },
  {
   "cell_type": "code",
   "execution_count": 36,
   "id": "03f3a1a2",
   "metadata": {},
   "outputs": [],
   "source": [
    "crop_Pic_2 = Pic_2[100:200+500 , 500:1000]\n",
    "cv2.imshow(\"Nature1\",crop_Pic_2)\n",
    "cv2.waitKey()\n",
    "cv2.destroyAllWindows()"
   ]
  },
  {
   "cell_type": "code",
   "execution_count": 37,
   "id": "16d9813f",
   "metadata": {},
   "outputs": [
    {
     "data": {
      "text/plain": [
       "(600, 500, 3)"
      ]
     },
     "execution_count": 37,
     "metadata": {},
     "output_type": "execute_result"
    }
   ],
   "source": [
    "crop_Pic_2.shape"
   ]
  },
  {
   "cell_type": "code",
   "execution_count": 38,
   "id": "6bfe84c0",
   "metadata": {},
   "outputs": [],
   "source": [
    "Pic_1 = numpy.hstack((crop_Pic_2, crop_Pic_1))"
   ]
  },
  {
   "cell_type": "code",
   "execution_count": 39,
   "id": "27bf9bde",
   "metadata": {},
   "outputs": [],
   "source": [
    "cv2.imshow(\"Nature\",Pic_1)\n",
    "cv2.waitKey()\n",
    "cv2.destroyAllWindows()"
   ]
  },
  {
   "cell_type": "code",
   "execution_count": null,
   "id": "e8f93554",
   "metadata": {},
   "outputs": [],
   "source": []
  },
  {
   "cell_type": "code",
   "execution_count": null,
   "id": "3cf5c0c7",
   "metadata": {},
   "outputs": [],
   "source": []
  }
 ],
 "metadata": {
  "kernelspec": {
   "display_name": "Python 3",
   "language": "python",
   "name": "python3"
  },
  "language_info": {
   "codemirror_mode": {
    "name": "ipython",
    "version": 3
   },
   "file_extension": ".py",
   "mimetype": "text/x-python",
   "name": "python",
   "nbconvert_exporter": "python",
   "pygments_lexer": "ipython3",
   "version": "3.8.8"
  }
 },
 "nbformat": 4,
 "nbformat_minor": 5
}
